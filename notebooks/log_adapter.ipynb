{
 "cells": [
  {
   "cell_type": "code",
   "execution_count": 10,
   "metadata": {},
   "outputs": [],
   "source": [
    "import logging\n",
    "from typing import Optional\n",
    "\n",
    "\n",
    "\n",
    "# Step 2: Use LoggerAdapter for contextual logging\n",
    "class ContextualLoggerAdapter(logging.LoggerAdapter):\n",
    "    def process(self, msg, kwargs):\n",
    "        return f'[UserID: {self.extra[\"user_id\"]}] [IP: {self.extra[\"ip_address\"]}] {msg}', kwargs\n",
    "\n",
    "# Configuration for logging\n",
    "logger = logging.getLogger('logger')\n",
    "adapter = ContextualLoggerAdapter(logger, {'user_id': 'jan_user', \"ip_address\": \"192.168.1.1\"})\n",
    "\n",
    "# Set the logging format to include custom attributes\n",
    "format_str = \"%(asctime)s - %(name)s - %(levelname)s - [Line: %(lineno)d] - %(message)s\"\n",
    "logging.basicConfig(format=format_str, level=logging.INFO)\n"
   ]
  },
  {
   "cell_type": "code",
   "execution_count": 11,
   "metadata": {},
   "outputs": [],
   "source": [
    "handler = logging.StreamHandler()\n",
    "# logger.addHandler(handler)"
   ]
  },
  {
   "cell_type": "code",
   "execution_count": 12,
   "metadata": {},
   "outputs": [
    {
     "name": "stderr",
     "output_type": "stream",
     "text": [
      "some message\n",
      "some message\n",
      "2023-12-20 15:59:33,600 - logger - INFO - [Line: 1] - some message\n"
     ]
    }
   ],
   "source": [
    "logger.info('some message')"
   ]
  },
  {
   "cell_type": "code",
   "execution_count": 13,
   "metadata": {},
   "outputs": [
    {
     "name": "stderr",
     "output_type": "stream",
     "text": [
      "[UserID: jan_user] [IP: 192.168.1.1] test\n",
      "[UserID: jan_user] [IP: 192.168.1.1] test\n",
      "2023-12-20 15:59:35,257 - logger - INFO - [Line: 1] - [UserID: jan_user] [IP: 192.168.1.1] test\n"
     ]
    }
   ],
   "source": [
    "adapter.info('test')"
   ]
  },
  {
   "cell_type": "code",
   "execution_count": 4,
   "metadata": {},
   "outputs": [
    {
     "name": "stderr",
     "output_type": "stream",
     "text": [
      "[UserID: 12345] [IP: 192.168.1.1] User logged in\n"
     ]
    }
   ],
   "source": [
    "\n",
    "# Logging example\n",
    "adapter.info(\"User logged in\")\n",
    "\n",
    "# The log output will include the user ID and IP address:\n",
    "# 2023-04-01 10:00:00,000 - myapp - INFO - [UserID: 12345] [IP: 192.168.1.1] User logged in\n"
   ]
  },
  {
   "cell_type": "code",
   "execution_count": 5,
   "metadata": {},
   "outputs": [
    {
     "name": "stderr",
     "output_type": "stream",
     "text": [
      "Some non-annotated mesage\n"
     ]
    }
   ],
   "source": [
    "logger.info('Some non-annotated mesage')"
   ]
  },
  {
   "cell_type": "code",
   "execution_count": 11,
   "metadata": {},
   "outputs": [
    {
     "name": "stderr",
     "output_type": "stream",
     "text": [
      "2023-12-21 00:37:03,682 - root - INFO - [Line: 12] - Test message\n"
     ]
    }
   ],
   "source": [
    "import logging\n",
    "import logging.handlers\n",
    "\n",
    "logger = logging.getLogger('')\n",
    "logger.setLevel(logging.INFO)\n",
    "\n",
    "\n",
    "format_str = \"%(asctime)s - %(name)s - %(levelname)s - [Line: %(lineno)d] - %(message)s\"\n",
    "logging.basicConfig(format=format_str, level=logging.INFO)\n",
    "socket_handler = logging.handlers.SocketHandler('localhost', 9981)\n",
    "logger.addHandler(socket_handler)\n",
    "logger.info(\"Test message\")\n"
   ]
  },
  {
   "cell_type": "code",
   "execution_count": 12,
   "metadata": {},
   "outputs": [
    {
     "name": "stderr",
     "output_type": "stream",
     "text": [
      "2023-12-21 00:37:29,419 - root - INFO - [Line: 1] - Hello world\n"
     ]
    }
   ],
   "source": [
    "logger.info('Hello world')"
   ]
  },
  {
   "cell_type": "code",
   "execution_count": 14,
   "metadata": {},
   "outputs": [
    {
     "name": "stderr",
     "output_type": "stream",
     "text": [
      "/tmp/ipykernel_13512/3333978025.py:1: DeprecationWarning: The 'warn' method is deprecated, use 'warning' instead\n",
      "  logger.warn('Test')\n",
      "2023-12-21 00:38:54,655 - root - WARNING - [Line: 1] - Test\n"
     ]
    }
   ],
   "source": [
    "logger.warn('Test')"
   ]
  },
  {
   "cell_type": "code",
   "execution_count": null,
   "metadata": {},
   "outputs": [],
   "source": []
  }
 ],
 "metadata": {
  "kernelspec": {
   "display_name": "Python 3",
   "language": "python",
   "name": "python3"
  },
  "language_info": {
   "codemirror_mode": {
    "name": "ipython",
    "version": 3
   },
   "file_extension": ".py",
   "mimetype": "text/x-python",
   "name": "python",
   "nbconvert_exporter": "python",
   "pygments_lexer": "ipython3",
   "version": "3.10.13"
  }
 },
 "nbformat": 4,
 "nbformat_minor": 2
}
