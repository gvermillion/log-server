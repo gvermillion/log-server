{
 "cells": [
  {
   "cell_type": "code",
   "execution_count": 1,
   "metadata": {},
   "outputs": [],
   "source": [
    "from log_server.logger import logger"
   ]
  },
  {
   "cell_type": "code",
   "execution_count": 2,
   "metadata": {},
   "outputs": [
    {
     "name": "stderr",
     "output_type": "stream",
     "text": [
      "2023-12-22 19:34:12,968 - log_server.logger - INFO - [Line: 1] - Hello, world!\n",
      "2023-12-22 19:34:12,969 - log_server.logger - WARNING - [Line: 2] - Some warning data: {'a': 1, 'b': 2}\n",
      "2023-12-22 19:34:12,970 - log_server.logger - CRITICAL - [Line: 3] - Critical warning\n",
      "2023-12-22 19:34:12,971 - log_server.logger - DEBUG - [Line: 4] - This is in a debug message\n"
     ]
    }
   ],
   "source": [
    "logger.info('Hello, world!')\n",
    "logger.warning('Some warning data: %s', {'a': 1, 'b': 2})\n",
    "logger.critical('Critical warning')\n",
    "logger.debug('This is in a debug message')"
   ]
  },
  {
   "cell_type": "code",
   "execution_count": null,
   "metadata": {},
   "outputs": [],
   "source": []
  }
 ],
 "metadata": {
  "kernelspec": {
   "display_name": "Python 3",
   "language": "python",
   "name": "python3"
  },
  "language_info": {
   "codemirror_mode": {
    "name": "ipython",
    "version": 3
   },
   "file_extension": ".py",
   "mimetype": "text/x-python",
   "name": "python",
   "nbconvert_exporter": "python",
   "pygments_lexer": "ipython3",
   "version": "3.10.13"
  }
 },
 "nbformat": 4,
 "nbformat_minor": 2
}
